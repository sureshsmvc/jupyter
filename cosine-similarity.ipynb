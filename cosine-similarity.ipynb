from sklearn.feature_extraction.text import TfidfVectorizer
from sklearn.metrics.pairwise import cosine_similarity
import pandas as pd

documents = (
"The sky is blue",
"The sky is clear and the sun is bright",
"The sun in the sky is bright",
"We can see the shining sun, the bright sun and clear sky",
"I love cheese cake with white cream",
"I really really really really like ice melting cake"
)

tfidf_vectorizer = TfidfVectorizer(stop_words=('english'))
tfidf_matrix = tfidf_vectorizer.fit_transform(documents)

print (tfidf_matrix.shape)



print (tfidf_vectorizer.get_feature_names())



pd.DataFrame(tfidf_matrix.toarray(), columns=tfidf_vectorizer.get_feature_names()) 


print (cosine_similarity(tfidf_matrix[3:4], tfidf_matrix))


import math
cos_sim = 0.83161761
angle_in_radians = math.acos(cos_sim)
print (math.degrees(angle_in_radians))
